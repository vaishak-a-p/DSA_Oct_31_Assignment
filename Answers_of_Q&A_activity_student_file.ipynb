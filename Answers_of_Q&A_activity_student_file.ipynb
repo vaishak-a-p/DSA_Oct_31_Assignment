{
  "nbformat": 4,
  "nbformat_minor": 0,
  "metadata": {
    "kernelspec": {
      "display_name": "Python 3",
      "language": "python",
      "name": "python3"
    },
    "language_info": {
      "codemirror_mode": {
        "name": "ipython",
        "version": 3
      },
      "file_extension": ".py",
      "mimetype": "text/x-python",
      "name": "python",
      "nbconvert_exporter": "python",
      "pygments_lexer": "ipython3",
      "version": "3.7.6"
    },
    "colab": {
      "name": "Answers of Q&A activity student file.ipynb",
      "provenance": [],
      "collapsed_sections": [],
      "toc_visible": true
    }
  },
  "cells": [
    {
      "cell_type": "markdown",
      "metadata": {
        "id": "4z_Z-K1tlrS7"
      },
      "source": [
        "## 1. Complete the following code to find the area of an equilateral triangle. Output should be as displayed"
      ]
    },
    {
      "cell_type": "code",
      "metadata": {
        "id": "rP2qFD_SlrS_",
        "colab": {
          "base_uri": "https://localhost:8080/"
        },
        "outputId": "a0ae5ea3-10ec-46a0-e1a3-e1ebdd61f38e"
      },
      "source": [
        "import math\n",
        "side = float(input(\"Enter the side of the equilateral triangle: \"))\n",
        "area = round(((math.sqrt(3))/4)*pow(side,2), 3)\n",
        "print(f'Area = {area}')"
      ],
      "execution_count": 4,
      "outputs": [
        {
          "output_type": "stream",
          "name": "stdout",
          "text": [
            "Enter the side of the equilateral triangle: 4\n",
            "Area = 6.928\n"
          ]
        }
      ]
    },
    {
      "cell_type": "markdown",
      "metadata": {
        "id": "TjVKjIfclrTB"
      },
      "source": [
        "## 2. Write a program to count the number of each characters in a string"
      ]
    },
    {
      "cell_type": "code",
      "metadata": {
        "id": "JY5seVUQlrTC",
        "colab": {
          "base_uri": "https://localhost:8080/"
        },
        "outputId": "9f3c70cf-9690-49b1-f0ec-32e50237f47b"
      },
      "source": [
        "input_string = input(\"Enter a string to get the count of each characters: \")\n",
        "for character in set(input_string):\n",
        "  print(f\"Count of character '{character}' in \\\"{input_string}\\\" = {input_string.count(character)}\")"
      ],
      "execution_count": 7,
      "outputs": [
        {
          "output_type": "stream",
          "name": "stdout",
          "text": [
            "Enter a string to get the count of each characters: Interstellar\n",
            "Count of character 'l' in \"Interstellar\" = 2\n",
            "Count of character 'I' in \"Interstellar\" = 1\n",
            "Count of character 'r' in \"Interstellar\" = 2\n",
            "Count of character 'n' in \"Interstellar\" = 1\n",
            "Count of character 'e' in \"Interstellar\" = 2\n",
            "Count of character 's' in \"Interstellar\" = 1\n",
            "Count of character 'a' in \"Interstellar\" = 1\n",
            "Count of character 't' in \"Interstellar\" = 2\n"
          ]
        }
      ]
    },
    {
      "cell_type": "markdown",
      "metadata": {
        "id": "FT_TfDmwjQH5"
      },
      "source": [
        "Using dictionary comprehension"
      ]
    },
    {
      "cell_type": "code",
      "metadata": {
        "colab": {
          "base_uri": "https://localhost:8080/"
        },
        "id": "Cxu_LPwDjWRd",
        "outputId": "663a40fb-5367-462f-9627-f1685af66c50"
      },
      "source": [
        "input_string = input(\"Enter a string to get the count of each characters: \")\n",
        "character_count = {i: input_string.count(i) for i in set(input_string)}\n",
        "print(character_count)"
      ],
      "execution_count": 41,
      "outputs": [
        {
          "output_type": "stream",
          "name": "stdout",
          "text": [
            "Enter a string to get the count of each characters: Interstellar\n",
            "{'l': 2, 'I': 1, 'r': 2, 'n': 1, 'e': 2, 's': 1, 'a': 1, 't': 2}\n"
          ]
        }
      ]
    },
    {
      "cell_type": "markdown",
      "metadata": {
        "id": "l3LCULfklrTD"
      },
      "source": [
        "## Write a program to find the area and perimeter of a rectangle using functions"
      ]
    },
    {
      "cell_type": "code",
      "metadata": {
        "id": "8haQD8edlrTD",
        "colab": {
          "base_uri": "https://localhost:8080/"
        },
        "outputId": "59084bbd-9c74-4880-826f-740c473a8d63"
      },
      "source": [
        "#Function to calculate the area of a rectangle\n",
        "def rectangle_area(lengt, breadth):\n",
        "  return length * breadth\n",
        "\n",
        "#Function to calculate the perimeter of a rectangle\n",
        "def rectangle_perimeter(length, breadth):\n",
        "  return 2 * (length + breadth)\n",
        "\n",
        "length = float(input('Enter the length of the rectangle: '))\n",
        "breadth = float(input('Enter the breadth of the rectangle: '))\n",
        "print(f'Area = {rectangle_area(length, breadth)}')\n",
        "print(f'Perimeter = {rectangle_perimeter(length, breadth)}')\n"
      ],
      "execution_count": 12,
      "outputs": [
        {
          "output_type": "stream",
          "name": "stdout",
          "text": [
            "Enter the length of the rectangle: 5\n",
            "Enter the breadth of the rectangle: 4\n",
            "Area = 20.0\n",
            "Perimeter = 18.0\n"
          ]
        }
      ]
    },
    {
      "cell_type": "markdown",
      "metadata": {
        "id": "JHK4ZdsflrTE"
      },
      "source": [
        "## 4. Write a program to print the fibonacci series till a specified number"
      ]
    },
    {
      "cell_type": "code",
      "metadata": {
        "id": "LyBEj-4SlrTE",
        "colab": {
          "base_uri": "https://localhost:8080/"
        },
        "outputId": "b0d3b6ea-8968-4c3e-a79d-854249b19caf"
      },
      "source": [
        "number = int(input('Enter a number upto which the fibonacci series is to be printed: '))\n",
        "first, second, third = 0, 1, 1\n",
        "print(f'The fibonacci series upto {number} is: ')\n",
        "while first <= number:\n",
        "  print(first, end = ' ')\n",
        "  first, second = second, third\n",
        "  third = first + second"
      ],
      "execution_count": 40,
      "outputs": [
        {
          "output_type": "stream",
          "name": "stdout",
          "text": [
            "Enter a number upto which the fibonacci series is to be printed: 8\n",
            "The fibonacci series upto 8 is: \n",
            "0 1 1 2 3 5 8 "
          ]
        }
      ]
    },
    {
      "cell_type": "markdown",
      "metadata": {
        "id": "u4uBUcQKlrTE"
      },
      "source": [
        "## 5. Complete the following code to find the minimum of 3 number using cinditional statements. Output should be as displayed"
      ]
    },
    {
      "cell_type": "code",
      "metadata": {
        "id": "XdZwrZjIlrTF",
        "colab": {
          "base_uri": "https://localhost:8080/"
        },
        "outputId": "b6d5ac7f-e5a2-4cd3-e4de-9c110c6a7bc8"
      },
      "source": [
        "a,b,c = map(int, input(\"Enter three numbers followed by  : \").split())\n",
        "\n",
        "print(\"First number :\",a)\n",
        "print(\"Second number :\",b)\n",
        "print(\"Third number :\",c)\n",
        "if a == b and b == c:\n",
        "    print(\"Entered numbers are equal!!!\")\n",
        "elif a < b and a < c:\n",
        "    print(a,\" is smallest\")\n",
        "elif b < c:\n",
        "    print(b,\" is smallest\")\n",
        "else:\n",
        "    print(c,\" is smallest\")"
      ],
      "execution_count": 18,
      "outputs": [
        {
          "output_type": "stream",
          "name": "stdout",
          "text": [
            "Enter three numbers followed by  : 3 -11 12\n",
            "First number : 3\n",
            "Second number : -11\n",
            "Third number : 12\n",
            "-11  is smallest\n"
          ]
        }
      ]
    },
    {
      "cell_type": "code",
      "metadata": {
        "colab": {
          "base_uri": "https://localhost:8080/"
        },
        "id": "FTqqtb1yMB84",
        "outputId": "aefa444f-0f15-4571-9f7b-513468f993da"
      },
      "source": [
        "a,b,c = input(\"Enter three numbers followed by space : \").split()\n",
        "\n",
        "print(\"First number :\",a)\n",
        "print(\"Second number :\",b)\n",
        "print(\"Third number :\",c)\n",
        "\n",
        "    print(\"Entered numbers are equal!!!\")\n",
        "\n",
        "    print(a,\" is smallest\")\n",
        "\n",
        "    print(b,\" is smallest\")\n",
        "\n",
        "    print(c,\" is smallest\")\n"
      ],
      "execution_count": null,
      "outputs": [
        {
          "output_type": "stream",
          "name": "stdout",
          "text": [
            "Enter three numbers followed by  : 3 -11 12\n",
            "First number : 3\n",
            "Second number : -11\n",
            "Third number : 12\n",
            "-11  is smallest\n"
          ]
        }
      ]
    },
    {
      "cell_type": "markdown",
      "metadata": {
        "id": "aR_CnToWlrTG"
      },
      "source": [
        "## 6. Write a program to print star pyramind. The number of rows should be taken as input from the user"
      ]
    },
    {
      "cell_type": "code",
      "metadata": {
        "id": "M37A-buplrTG",
        "colab": {
          "base_uri": "https://localhost:8080/"
        },
        "outputId": "07400348-c61d-4919-8405-3eb05d94ea90"
      },
      "source": [
        "rows = int(input('Enter the number of rows of star pyramid: '))\n",
        "for i in range(1, rows + 1):\n",
        "  for j in range(i):\n",
        "    print('*', end = '')\n",
        "  print()"
      ],
      "execution_count": 22,
      "outputs": [
        {
          "output_type": "stream",
          "name": "stdout",
          "text": [
            "Enter the number of rows of star pyramid: 5\n",
            "*\n",
            "**\n",
            "***\n",
            "****\n",
            "*****\n"
          ]
        }
      ]
    },
    {
      "cell_type": "markdown",
      "metadata": {
        "id": "tlY6aFWBlrTH"
      },
      "source": [
        "## 7. Complete the following code to convert hour into seconds. Output should be as displayed"
      ]
    },
    {
      "cell_type": "code",
      "metadata": {
        "id": "YOZQFk7FlrTH",
        "colab": {
          "base_uri": "https://localhost:8080/"
        },
        "outputId": "84cec5dc-65fe-469e-d03a-cc22fd890213"
      },
      "source": [
        "def to_seconds(t):\n",
        "    return t * 60 * 60\n",
        "time_in_hours = int(input('Enter time in Hours: '))\n",
        "print(time_in_hours ,\" Hour is equal to\" ,to_seconds(time_in_hours) ,\" Seconds\")"
      ],
      "execution_count": 23,
      "outputs": [
        {
          "output_type": "stream",
          "name": "stdout",
          "text": [
            "Enter time in Hours: 12\n",
            "12  Hour is equal to 43200  Seconds\n"
          ]
        }
      ]
    },
    {
      "cell_type": "markdown",
      "metadata": {
        "id": "CnYorNiLlrTI"
      },
      "source": [
        "## 8. Write a program to print multiplication table as below"
      ]
    },
    {
      "cell_type": "code",
      "metadata": {
        "id": "dPQqDPuDlrTI",
        "colab": {
          "base_uri": "https://localhost:8080/"
        },
        "outputId": "9eefad03-31e7-4889-c6dc-2dc8c15fd91c"
      },
      "source": [
        "number = int(input('Enter a number to find the multiplication table: '))\n",
        "for i in range(1, 11):\n",
        "  print(f'{i} x {number} = {i * number}')"
      ],
      "execution_count": 25,
      "outputs": [
        {
          "output_type": "stream",
          "name": "stdout",
          "text": [
            "Enter a number to find the multiplication table: 4\n",
            "1 x 4 = 4\n",
            "2 x 4 = 8\n",
            "3 x 4 = 12\n",
            "4 x 4 = 16\n",
            "5 x 4 = 20\n",
            "6 x 4 = 24\n",
            "7 x 4 = 28\n",
            "8 x 4 = 32\n",
            "9 x 4 = 36\n",
            "10 x 4 = 40\n"
          ]
        }
      ]
    },
    {
      "cell_type": "markdown",
      "metadata": {
        "id": "Fiaez8iblrTI"
      },
      "source": [
        "## 9. Write a program to take your 5 favorite food as list and print each as 'I like Biriyani'"
      ]
    },
    {
      "cell_type": "code",
      "metadata": {
        "id": "39W1zFX7lrTJ",
        "colab": {
          "base_uri": "https://localhost:8080/"
        },
        "outputId": "1d6786f8-2f83-475c-a6e2-64446d965490"
      },
      "source": [
        "favorite_foods = list(input('Enter your favorite food list followed by space : ').split())\n",
        "for food in favorite_foods:\n",
        "  print(f'I like {food}')"
      ],
      "execution_count": 42,
      "outputs": [
        {
          "output_type": "stream",
          "name": "stdout",
          "text": [
            "Enter your favorite food list followed by space : Biriyani Apple Orange\n",
            "I like Biriyani\n",
            "I like Apple\n",
            "I like Orange\n"
          ]
        }
      ]
    },
    {
      "cell_type": "markdown",
      "metadata": {
        "id": "3vlcDNNEP7d_"
      },
      "source": [
        "## 10. Find error(s) in the following code(if any) and rewrite code.\n",
        "\n"
      ]
    },
    {
      "cell_type": "code",
      "metadata": {
        "id": "coREkcY3P9sG"
      },
      "source": [
        "x= int(“Enter value of x:”)\n",
        "for in range [0,10]\n",
        "     if x=y\n",
        "          print(\"They are equal\")\n",
        "     else:\n",
        "         Print( \"They are unequal\")"
      ],
      "execution_count": null,
      "outputs": []
    },
    {
      "cell_type": "code",
      "metadata": {
        "colab": {
          "base_uri": "https://localhost:8080/"
        },
        "id": "A_kgkogffS3d",
        "outputId": "692be295-1304-4701-e199-75ce3bc0ee63"
      },
      "source": [
        "x = int(input('Enter value of x: '))\n",
        "y = int(input('Enter the value of y: '))\n",
        "if x == y:\n",
        "    print(\"They are equal\")\n",
        "else:\n",
        "    Print( \"They are unequal\")"
      ],
      "execution_count": 27,
      "outputs": [
        {
          "output_type": "stream",
          "name": "stdout",
          "text": [
            "Enter value of x: 4\n",
            "Enter the value of y: 4\n",
            "They are equal\n"
          ]
        }
      ]
    }
  ]
}